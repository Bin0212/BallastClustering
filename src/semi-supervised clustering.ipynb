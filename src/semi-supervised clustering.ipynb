{
 "cells": [
  {
   "cell_type": "markdown",
   "metadata": {},
   "source": [
    "## Import Library"
   ]
  },
  {
   "cell_type": "code",
   "execution_count": 1,
   "metadata": {},
   "outputs": [],
   "source": [
    "import pandas as pd\n",
    "import numpy as np\n",
    "import seaborn as sns\n",
    "import matplotlib.pyplot as plt\n",
    "\n",
    "from sklearn import cluster\n",
    "from sklearn import mixture\n",
    "from sklearn import preprocessing\n",
    "from collections import Counter\n",
    "from mpl_toolkits.mplot3d import Axes3D"
   ]
  },
  {
   "cell_type": "markdown",
   "metadata": {},
   "source": [
    "## Reading data"
   ]
  },
  {
   "cell_type": "code",
   "execution_count": 2,
   "metadata": {},
   "outputs": [],
   "source": [
    "def read_data(folder):\n",
    "    file_path = \"../data/50mph/\" + str(folder) + \"/\" + str(folder) + \"_Step1.csv\"\n",
    "    data = np.abs(pd.read_csv(file_path))\n",
    "    data[\"movement_x\"] = 0\n",
    "    data[\"movement_y\"] = 0\n",
    "    data[\"movement_z\"] = 0\n",
    "\n",
    "    for i in range(1,303):\n",
    "        # create file path\n",
    "        file_path_1 = \"../data/50mph/\" + str(folder) + \"/\" + str(folder) + \"_Step\" + str(i) + \".csv\"\n",
    "        file_path_2 = \"../data/50mph/\" + str(folder) + \"/\" + str(folder) + \"_Step\" + str(i+1) + \".csv\"\n",
    "        print(file_path_1)\n",
    "        # read in file \n",
    "        data_1 = pd.read_csv(file_path_1)\n",
    "        data_2 = pd.read_csv(file_path_2)\n",
    "\n",
    "        # calculate movement in x,y,z directions\n",
    "        data.iloc[:,20:23] = data.iloc[:,20:23] + np.abs(data_2.iloc[:,2:5] - data_1.iloc[:,2:5]).values\n",
    "\n",
    "        # add moment of inertiain x,y,z directions\n",
    "        data.iloc[:,5:20] = data.iloc[:,5:20] + np.abs(data_2.iloc[:,5:20])\n",
    "        \n",
    "        return data\n"
   ]
  },
  {
   "cell_type": "markdown",
   "metadata": {},
   "source": [
    "## Data Preprocess"
   ]
  },
  {
   "cell_type": "code",
   "execution_count": 3,
   "metadata": {},
   "outputs": [],
   "source": [
    "def feature_engineering(data):\n",
    "    data[\"velocity\"] = np.sqrt(data[\"velocity_vx\"]**2 + \n",
    "                               data[\"velocity_vy\"]**2 + \n",
    "                               data[\"velocity_vz\"]**2)\n",
    "    \n",
    "    data[\"movement\"] = np.sqrt(data[\"movement_x\"]**2 + \n",
    "                               data[\"movement_y\"]**2 + \n",
    "                               data[\"movement_z\"]**2)\n",
    "    \n",
    "    data[\"Fsc\"] = np.sqrt(data[\"Fsc_x\"]**2 + \n",
    "                          data[\"Fsc_y\"]**2 + \n",
    "                          data[\"Fsc_z\"]**2)\n",
    "    \n",
    "    data[\"F\"] = np.sqrt(data[\"F_x\"]**2 + \n",
    "                        data[\"F_y\"]**2 + \n",
    "                        data[\"F_z\"]**2)\n",
    "    return data\n",
    "\n",
    "def util_winsorization(data):\n",
    "    p = 0.95\n",
    "    quantile_value = np.quantile(data, p)\n",
    "    \n",
    "    data = data.apply(lambda x: x if x < quantile_value else quantile_value)\n",
    "    \n",
    "    return data\n",
    "    \n",
    "def data_preprocess(data):\n",
    "    # take natural logarithm for some columns\n",
    "    min_value = 1e-5\n",
    "    data.iloc[:,8:28] = np.log(data.iloc[:,8:28] + min_value)\n",
    "    \n",
    "    # winsorization\n",
    "    data.iloc[:,8:28] = data.iloc[:,8:28].apply(util_winsorization, axis = 0)\n",
    "    \n",
    "    # data standardization \n",
    "    tmp = pd.DataFrame(preprocessing.scale(data.iloc[:,1:28]))\n",
    "    tmp.columns = data.columns[1:28]\n",
    "    data.iloc[:,1:28] = tmp\n",
    "    \n",
    "    return data\n",
    "\n",
    "def plot_coordinate(data, label):\n",
    "    color_map = {0: 'red', 1: 'blue', 2: 'yellow', 3: 'black', 4: 'white',\n",
    "                 5: 'green', 6: 'magenta', 7: 'cyan'}\n",
    "    color = [color_map[labels] for labels in label ]\n",
    "    fig = plt.figure()\n",
    "    ax = fig.add_subplot(1,1,1, projection = '3d')\n",
    "    x, y, z = data[\"centroid_x\"], data[\"centroid_y\"], data[\"centroid_z\"]\n",
    "    ax.scatter(x, y, z, s = 2, c=color, marker='o')\n",
    "    ax.set_xlabel('X Label')\n",
    "    ax.set_ylabel('Y Label')\n",
    "    ax.set_zlabel('Z Label')\n",
    "    plt.show()\n"
   ]
  },
  {
   "cell_type": "markdown",
   "metadata": {},
   "source": [
    "## Semi-supervised KMeans"
   ]
  },
  {
   "cell_type": "markdown",
   "metadata": {},
   "source": [
    "### Center Binding"
   ]
  },
  {
   "cell_type": "code",
   "execution_count": 27,
   "metadata": {},
   "outputs": [
    {
     "name": "stdout",
     "output_type": "stream",
     "text": [
      "../data/50mph/cb_d16out/cb_d16out_Step1.csv\n"
     ]
    }
   ],
   "source": [
    "%matplotlib qt\n",
    "\n",
    "from semi_kmeans_util import SemiKMeans\n",
    "\n",
    "folder = \"cb_d16out\"\n",
    "data = read_data(folder)\n",
    "\n",
    "# define pre-labeled points\n",
    "def check_range(x):\n",
    "    if 1.75 < x[\"centroid_x\"] < 3.25 and 0.2 < x[\"centroid_z\"] < 0.4:\n",
    "        return True\n",
    "    else:\n",
    "        return False\n",
    "    \n",
    "idx  = [i for i, v in data.iterrows() if check_range(v)]\n",
    "\n",
    "data = feature_engineering(data)\n",
    "data = data_preprocess(data)\n",
    "data_noxyz = data.drop(['centroid_x', 'centroid_y', 'centroid_z'], axis=1)\n"
   ]
  },
  {
   "cell_type": "code",
   "execution_count": 28,
   "metadata": {},
   "outputs": [
    {
     "data": {
      "text/plain": [
       "2150"
      ]
     },
     "execution_count": 28,
     "metadata": {},
     "output_type": "execute_result"
    }
   ],
   "source": [
    "len(idx)"
   ]
  },
  {
   "cell_type": "code",
   "execution_count": 29,
   "metadata": {},
   "outputs": [],
   "source": [
    "know_data = np.array([idx, [], [], [], []])"
   ]
  },
  {
   "cell_type": "code",
   "execution_count": 30,
   "metadata": {},
   "outputs": [
    {
     "name": "stdout",
     "output_type": "stream",
     "text": [
      "Counter({1.0: 4667, 0.0: 3356, 3.0: 1874, 2.0: 833, 4.0: 696})\n",
      "Iteration 1\tConvergance: 12.060507276300825\n",
      "Counter({1.0: 4075, 0.0: 3377, 3.0: 2424, 2.0: 823, 4.0: 727})\n",
      "Iteration 2\tConvergance: 6.330274031186519\n",
      "Counter({1.0: 3743, 0.0: 3490, 3.0: 2622, 2.0: 821, 4.0: 750})\n",
      "Iteration 3\tConvergance: 4.5623985214065215\n",
      "Counter({0.0: 3572, 1.0: 3526, 3.0: 2730, 2.0: 830, 4.0: 768})\n",
      "Iteration 4\tConvergance: 3.294613855707979\n",
      "Counter({0.0: 3630, 1.0: 3379, 3.0: 2796, 2.0: 843, 4.0: 778})\n",
      "Iteration 5\tConvergance: 2.2971029712260815\n",
      "Counter({0.0: 3660, 1.0: 3277, 3.0: 2844, 2.0: 850, 4.0: 795})\n",
      "Iteration 6\tConvergance: 1.770711616120849\n",
      "Counter({0.0: 3690, 1.0: 3208, 3.0: 2864, 2.0: 860, 4.0: 804})\n",
      "Iteration 7\tConvergance: 1.2953433251423974\n",
      "Counter({0.0: 3705, 1.0: 3158, 3.0: 2888, 2.0: 857, 4.0: 818})\n",
      "Iteration 8\tConvergance: 0.9309599010488796\n",
      "Counter({0.0: 3711, 1.0: 3124, 3.0: 2899, 2.0: 867, 4.0: 825})\n",
      "Iteration 9\tConvergance: 0.7226207651007144\n",
      "Counter({0.0: 3721, 1.0: 3100, 3.0: 2909, 2.0: 861, 4.0: 835})\n",
      "Iteration 10\tConvergance: 0.4926531249418531\n",
      "Counter({0.0: 3726, 1.0: 3083, 3.0: 2912, 2.0: 861, 4.0: 844})\n",
      "Iteration 11\tConvergance: 0.4602502513797333\n",
      "Counter({0.0: 3721, 1.0: 3071, 3.0: 2918, 2.0: 869, 4.0: 847})\n",
      "Iteration 12\tConvergance: 0.2831968806482337\n",
      "Counter({0.0: 3722, 1.0: 3063, 3.0: 2923, 2.0: 871, 4.0: 847})\n",
      "Iteration 13\tConvergance: 0.11093766408848182\n",
      "Counter({0.0: 3726, 1.0: 3058, 3.0: 2924, 2.0: 870, 4.0: 848})\n",
      "Iteration 14\tConvergance: 0.09106472092051376\n",
      "Counter({0.0: 3729, 1.0: 3054, 3.0: 2925, 2.0: 869, 4.0: 849})\n",
      "Iteration 15\tConvergance: 0.07372205167760626\n",
      "Counter({0.0: 3732, 1.0: 3051, 3.0: 2925, 2.0: 868, 4.0: 850})\n",
      "Iteration 16\tConvergance: 0.06520684139323407\n",
      "Counter({0.0: 3734, 1.0: 3049, 3.0: 2925, 2.0: 867, 4.0: 851})\n",
      "Iteration 17\tConvergance: 0.04786781802854989\n",
      "Counter({0.0: 3736, 1.0: 3047, 3.0: 2925, 2.0: 867, 4.0: 851})\n",
      "Iteration 18\tConvergance: 0.03468279238128957\n",
      "Counter({0.0: 3737, 1.0: 3045, 3.0: 2926, 2.0: 867, 4.0: 851})\n",
      "Iteration 19\tConvergance: 0.025869653297377226\n",
      "Counter({0.0: 3738, 1.0: 3044, 3.0: 2926, 2.0: 867, 4.0: 851})\n",
      "Iteration 20\tConvergance: 0.01733645920060667\n",
      "Counter({0.0: 3739, 1.0: 3043, 3.0: 2926, 2.0: 867, 4.0: 851})\n",
      "Iteration 21\tConvergance: 0.017330008496657\n",
      "Counter({0.0: 3740, 1.0: 3042, 3.0: 2926, 2.0: 867, 4.0: 851})\n",
      "Iteration 22\tConvergance: 0.01733531850979375\n",
      "Counter({0.0: 3741, 1.0: 3042, 3.0: 2925, 2.0: 867, 4.0: 851})\n",
      "Iteration 23\tConvergance: 0.008799838171569263\n",
      "Counter({0.0: 3741, 1.0: 3041, 3.0: 2926, 2.0: 867, 4.0: 851})\n",
      "Iteration 24\tConvergance: 0.00853166300228736\n",
      "Counter({0.0: 3741, 1.0: 3041, 3.0: 2926, 2.0: 867, 4.0: 851})\n",
      "Iteration 25\tConvergance: 0.0\n"
     ]
    }
   ],
   "source": [
    "# kmeans clustering - semi-unsupurvised\n",
    "kmeans = SemiKMeans(n_clusters = 5, labeled_data = know_data, weight=1, max_iter=100, verbose=True)\n",
    "kmeans_semi_results = kmeans.fit_predict(data_noxyz.values)\n",
    "kmeans_semi_results = [int(x) for x in kmeans_semi_results]\n",
    "\n",
    "label = pd.DataFrame({'part_num':data[\"part_num\"],'label':kmeans_semi_results})\n",
    "label.to_csv('labels_semi_cb.csv',header=True, index=False)"
   ]
  },
  {
   "cell_type": "markdown",
   "metadata": {},
   "source": [
    "### Full Support"
   ]
  },
  {
   "cell_type": "code",
   "execution_count": 21,
   "metadata": {},
   "outputs": [
    {
     "name": "stdout",
     "output_type": "stream",
     "text": [
      "../data/50mph/fs_d14out/fs_d14out_Step1.csv\n"
     ]
    }
   ],
   "source": [
    "%matplotlib qt\n",
    "\n",
    "from semi_kmeans_util import SemiKMeans\n",
    "\n",
    "folder = \"fs_d14out\"\n",
    "data = read_data(folder)\n",
    "\n",
    "# define pre-labeled points\n",
    "def check_range(x):\n",
    "    if 1.75 < x[\"centroid_x\"] < 3.25 and 0.2 < x[\"centroid_z\"] < 0.4:\n",
    "        return True\n",
    "    else:\n",
    "        return False\n",
    "    \n",
    "idx  = [i for i, v in data.iterrows() if check_range(v)]\n",
    "\n",
    "data = feature_engineering(data)\n",
    "data = data_preprocess(data)\n",
    "data_noxyz = data.drop(['centroid_x', 'centroid_y', 'centroid_z'], axis=1)\n",
    "\n",
    "know_data = np.array([idx, [], [], [], []])"
   ]
  },
  {
   "cell_type": "code",
   "execution_count": 31,
   "metadata": {},
   "outputs": [
    {
     "name": "stdout",
     "output_type": "stream",
     "text": [
      "Counter({0.0: 4359, 1.0: 2575, 3.0: 1534, 2.0: 1481, 4.0: 1477})\n",
      "Iteration 1\tConvergance: 10.175194147949867\n",
      "Counter({0.0: 4092, 1.0: 2542, 2.0: 1782, 3.0: 1522, 4.0: 1488})\n",
      "Iteration 2\tConvergance: 4.5007291666569245\n",
      "Counter({0.0: 3983, 1.0: 2470, 2.0: 1931, 3.0: 1589, 4.0: 1453})\n",
      "Iteration 3\tConvergance: 3.9814748733380725\n",
      "Counter({0.0: 3919, 1.0: 2401, 2.0: 2012, 3.0: 1676, 4.0: 1418})\n",
      "Iteration 4\tConvergance: 3.3539390784810337\n",
      "Counter({0.0: 3875, 1.0: 2332, 2.0: 2065, 3.0: 1761, 4.0: 1393})\n",
      "Iteration 5\tConvergance: 2.7363209370713264\n",
      "Counter({0.0: 3840, 1.0: 2268, 2.0: 2101, 3.0: 1839, 4.0: 1378})\n",
      "Iteration 6\tConvergance: 2.2211070449164367\n",
      "Counter({0.0: 3810, 1.0: 2222, 2.0: 2127, 3.0: 1906, 4.0: 1361})\n",
      "Iteration 7\tConvergance: 1.9411473437278346\n",
      "Counter({0.0: 3785, 1.0: 2173, 2.0: 2151, 3.0: 1963, 4.0: 1354})\n",
      "Iteration 8\tConvergance: 1.5361842875032892\n",
      "Counter({0.0: 3765, 2.0: 2168, 1.0: 2135, 3.0: 2012, 4.0: 1346})\n",
      "Iteration 9\tConvergance: 1.3132138848270074\n",
      "Counter({0.0: 3753, 2.0: 2181, 1.0: 2101, 3.0: 2054, 4.0: 1337})\n",
      "Iteration 10\tConvergance: 1.1064012178488838\n",
      "Counter({0.0: 3738, 2.0: 2192, 3.0: 2089, 1.0: 2077, 4.0: 1330})\n",
      "Iteration 11\tConvergance: 0.9604094434892261\n",
      "Counter({0.0: 3719, 2.0: 2204, 3.0: 2117, 1.0: 2057, 4.0: 1329})\n",
      "Iteration 12\tConvergance: 0.778006826081338\n",
      "Counter({0.0: 3711, 2.0: 2215, 3.0: 2141, 1.0: 2031, 4.0: 1328})\n",
      "Iteration 13\tConvergance: 0.6044649253261412\n",
      "Counter({0.0: 3698, 2.0: 2221, 3.0: 2162, 1.0: 2019, 4.0: 1326})\n",
      "Iteration 14\tConvergance: 0.5690371418139932\n",
      "Counter({0.0: 3694, 2.0: 2230, 3.0: 2178, 1.0: 2002, 4.0: 1322})\n",
      "Iteration 15\tConvergance: 0.4660987102744514\n",
      "Counter({0.0: 3689, 2.0: 2233, 3.0: 2193, 1.0: 1992, 4.0: 1319})\n",
      "Iteration 16\tConvergance: 0.3856877899229971\n",
      "Counter({0.0: 3682, 2.0: 2238, 3.0: 2205, 1.0: 1985, 4.0: 1316})\n",
      "Iteration 17\tConvergance: 0.3690270205561319\n",
      "Counter({0.0: 3681, 2.0: 2240, 3.0: 2215, 1.0: 1978, 4.0: 1312})\n",
      "Iteration 18\tConvergance: 0.27239582914492644\n",
      "Counter({0.0: 3682, 2.0: 2243, 3.0: 2223, 1.0: 1969, 4.0: 1309})\n",
      "Iteration 19\tConvergance: 0.21164019064437412\n",
      "Counter({0.0: 3682, 2.0: 2245, 3.0: 2230, 1.0: 1962, 4.0: 1307})\n",
      "Iteration 20\tConvergance: 0.17619406802620574\n",
      "Counter({0.0: 3679, 2.0: 2246, 3.0: 2236, 1.0: 1959, 4.0: 1306})\n",
      "Iteration 21\tConvergance: 0.15808109311524277\n",
      "Counter({0.0: 3676, 2.0: 2249, 3.0: 2240, 1.0: 1956, 4.0: 1305})\n",
      "Iteration 22\tConvergance: 0.1413898324627496\n",
      "Counter({0.0: 3672, 2.0: 2251, 3.0: 2244, 1.0: 1954, 4.0: 1305})\n",
      "Iteration 23\tConvergance: 0.12325023167670679\n",
      "Counter({0.0: 3668, 2.0: 2253, 3.0: 2248, 1.0: 1952, 4.0: 1305})\n",
      "Iteration 24\tConvergance: 0.12325388509040636\n",
      "Counter({0.0: 3664, 2.0: 2255, 3.0: 2251, 1.0: 1951, 4.0: 1305})\n",
      "Iteration 25\tConvergance: 0.10565444284912928\n",
      "Counter({0.0: 3662, 2.0: 2257, 3.0: 2254, 1.0: 1948, 4.0: 1305})\n",
      "Iteration 26\tConvergance: 0.08824492491876867\n",
      "Counter({0.0: 3662, 2.0: 2258, 3.0: 2257, 1.0: 1944, 4.0: 1305})\n",
      "Iteration 27\tConvergance: 0.0618425645522791\n",
      "Counter({0.0: 3662, 2.0: 2259, 3.0: 2259, 1.0: 1941, 4.0: 1305})\n",
      "Iteration 28\tConvergance: 0.04431108444839538\n",
      "Counter({0.0: 3662, 3.0: 2261, 2.0: 2259, 1.0: 1939, 4.0: 1305})\n",
      "Iteration 29\tConvergance: 0.03513952468094317\n",
      "Counter({0.0: 3662, 3.0: 2263, 2.0: 2259, 1.0: 1937, 4.0: 1305})\n",
      "Iteration 30\tConvergance: 0.03512172341174846\n",
      "Counter({0.0: 3662, 3.0: 2264, 2.0: 2259, 1.0: 1936, 4.0: 1305})\n",
      "Iteration 31\tConvergance: 0.017562819824092912\n",
      "Counter({0.0: 3661, 3.0: 2265, 2.0: 2259, 1.0: 1936, 4.0: 1305})\n",
      "Iteration 32\tConvergance: 0.02623383469946816\n",
      "Counter({0.0: 3661, 3.0: 2266, 2.0: 2259, 1.0: 1935, 4.0: 1305})\n",
      "Iteration 33\tConvergance: 0.017543276285579168\n",
      "Counter({0.0: 3661, 3.0: 2266, 2.0: 2259, 1.0: 1935, 4.0: 1305})\n",
      "Iteration 34\tConvergance: 0.0\n"
     ]
    }
   ],
   "source": [
    "# kmeans clustering - semi-unsupurvised\n",
    "kmeans = SemiKMeans(n_clusters = 5, labeled_data = know_data, weight=1, max_iter=100, verbose=True)\n",
    "kmeans_semi_results = kmeans.fit_predict(data_noxyz.values)\n",
    "kmeans_semi_results = [int(x) for x in kmeans_semi_results]\n",
    "\n",
    "label = pd.DataFrame({'part_num':data[\"part_num\"],'label':kmeans_semi_results})\n",
    "label.to_csv('labels_semi_fs.csv',header=True, index=False)"
   ]
  },
  {
   "cell_type": "markdown",
   "metadata": {},
   "source": [
    "### Lack of Center Support"
   ]
  },
  {
   "cell_type": "code",
   "execution_count": 32,
   "metadata": {},
   "outputs": [
    {
     "name": "stdout",
     "output_type": "stream",
     "text": [
      "../data/50mph/locs_d16out/locs_d16out_Step1.csv\n"
     ]
    }
   ],
   "source": [
    "%matplotlib qt\n",
    "\n",
    "from semi_kmeans_util import SemiKMeans\n",
    "\n",
    "folder = \"locs_d16out\"\n",
    "data = read_data(folder)\n",
    "\n",
    "# define pre-labeled points\n",
    "def check_range(x):\n",
    "    if 1.75 < x[\"centroid_x\"] < 3.25 and 0.2 < x[\"centroid_z\"] < 0.4:\n",
    "        return True\n",
    "    else:\n",
    "        return False\n",
    "    \n",
    "idx  = [i for i, v in data.iterrows() if check_range(v)]\n",
    "\n",
    "data = feature_engineering(data)\n",
    "data = data_preprocess(data)\n",
    "data_noxyz = data.drop(['centroid_x', 'centroid_y', 'centroid_z'], axis=1)\n",
    "\n",
    "know_data = np.array([idx, [], [], [], []])"
   ]
  },
  {
   "cell_type": "code",
   "execution_count": 33,
   "metadata": {},
   "outputs": [
    {
     "name": "stdout",
     "output_type": "stream",
     "text": [
      "Counter({3.0: 3606, 0.0: 2979, 1.0: 2420, 2.0: 1307, 4.0: 1093})\n",
      "Iteration 1\tConvergance: 5.828248165239046\n",
      "Counter({3.0: 3340, 0.0: 3158, 1.0: 2450, 2.0: 1232, 4.0: 1225})\n",
      "Iteration 2\tConvergance: 5.044780016333874\n",
      "Counter({0.0: 3253, 3.0: 3135, 1.0: 2466, 4.0: 1334, 2.0: 1217})\n",
      "Iteration 3\tConvergance: 4.2860716155308864\n",
      "Counter({0.0: 3321, 3.0: 2977, 1.0: 2463, 4.0: 1426, 2.0: 1218})\n",
      "Iteration 4\tConvergance: 3.6006917110385928\n",
      "Counter({0.0: 3366, 3.0: 2854, 1.0: 2449, 4.0: 1511, 2.0: 1225})\n",
      "Iteration 5\tConvergance: 2.935810690322654\n",
      "Counter({0.0: 3414, 3.0: 2755, 1.0: 2434, 4.0: 1577, 2.0: 1225})\n",
      "Iteration 6\tConvergance: 2.3810799723235903\n",
      "Counter({0.0: 3458, 3.0: 2675, 1.0: 2417, 4.0: 1625, 2.0: 1230})\n",
      "Iteration 7\tConvergance: 2.092779388589264\n",
      "Counter({0.0: 3478, 3.0: 2610, 1.0: 2395, 4.0: 1682, 2.0: 1240})\n",
      "Iteration 8\tConvergance: 1.739209700445258\n",
      "Counter({0.0: 3500, 3.0: 2555, 1.0: 2380, 4.0: 1721, 2.0: 1249})\n",
      "Iteration 9\tConvergance: 1.4822778620508643\n",
      "Counter({0.0: 3530, 3.0: 2509, 1.0: 2367, 4.0: 1750, 2.0: 1249})\n",
      "Iteration 10\tConvergance: 1.2078997813477201\n",
      "Counter({0.0: 3548, 3.0: 2472, 1.0: 2350, 4.0: 1784, 2.0: 1251})\n",
      "Iteration 11\tConvergance: 1.0126844837899114\n",
      "Counter({0.0: 3558, 3.0: 2439, 1.0: 2337, 4.0: 1815, 2.0: 1256})\n",
      "Iteration 12\tConvergance: 0.8842065422024348\n",
      "Counter({0.0: 3573, 3.0: 2412, 1.0: 2328, 4.0: 1831, 2.0: 1261})\n",
      "Iteration 13\tConvergance: 0.7819784872544915\n",
      "Counter({0.0: 3575, 3.0: 2389, 1.0: 2318, 4.0: 1856, 2.0: 1267})\n",
      "Iteration 14\tConvergance: 0.6232131071660092\n",
      "Counter({0.0: 3586, 3.0: 2370, 1.0: 2311, 4.0: 1866, 2.0: 1272})\n",
      "Iteration 15\tConvergance: 0.5846295290320711\n",
      "Counter({0.0: 3587, 3.0: 2354, 1.0: 2304, 4.0: 1886, 2.0: 1274})\n",
      "Iteration 16\tConvergance: 0.39105364738159665\n",
      "Counter({0.0: 3596, 3.0: 2340, 1.0: 2302, 4.0: 1893, 2.0: 1274})\n",
      "Iteration 17\tConvergance: 0.3434267012233363\n",
      "Counter({0.0: 3606, 3.0: 2329, 1.0: 2297, 4.0: 1899, 2.0: 1274})\n",
      "Iteration 18\tConvergance: 0.32685525672582116\n",
      "Counter({0.0: 3612, 3.0: 2319, 1.0: 2292, 4.0: 1908, 2.0: 1274})\n",
      "Iteration 19\tConvergance: 0.2743178091752725\n",
      "Counter({0.0: 3612, 3.0: 2310, 1.0: 2289, 4.0: 1920, 2.0: 1274})\n",
      "Iteration 20\tConvergance: 0.1857176209518343\n",
      "Counter({0.0: 3613, 3.0: 2303, 1.0: 2290, 4.0: 1925, 2.0: 1274})\n",
      "Iteration 21\tConvergance: 0.1224851238196436\n",
      "Counter({0.0: 3615, 3.0: 2298, 1.0: 2290, 4.0: 1928, 2.0: 1274})\n",
      "Iteration 22\tConvergance: 0.10536002525435606\n",
      "Counter({0.0: 3618, 3.0: 2295, 1.0: 2289, 4.0: 1929, 2.0: 1274})\n",
      "Iteration 23\tConvergance: 0.0879003219912704\n",
      "Counter({0.0: 3621, 3.0: 2293, 1.0: 2287, 4.0: 1930, 2.0: 1274})\n",
      "Iteration 24\tConvergance: 0.07949765323721181\n",
      "Counter({0.0: 3623, 3.0: 2291, 1.0: 2285, 4.0: 1932, 2.0: 1274})\n",
      "Iteration 25\tConvergance: 0.07085881836613339\n",
      "Counter({0.0: 3625, 3.0: 2288, 1.0: 2284, 4.0: 1934, 2.0: 1274})\n",
      "Iteration 26\tConvergance: 0.079295834070507\n",
      "Counter({0.0: 3628, 3.0: 2286, 1.0: 2283, 4.0: 1934, 2.0: 1274})\n",
      "Iteration 27\tConvergance: 0.0704418840856249\n",
      "Counter({0.0: 3630, 3.0: 2284, 1.0: 2282, 4.0: 1935, 2.0: 1274})\n",
      "Iteration 28\tConvergance: 0.06168331678949812\n",
      "Counter({0.0: 3632, 3.0: 2282, 1.0: 2281, 4.0: 1936, 2.0: 1274})\n",
      "Iteration 29\tConvergance: 0.061676271012828465\n",
      "Counter({0.0: 3634, 3.0: 2281, 1.0: 2279, 4.0: 1937, 2.0: 1274})\n",
      "Iteration 30\tConvergance: 0.05322150940989445\n",
      "Counter({0.0: 3636, 3.0: 2279, 1.0: 2278, 4.0: 1938, 2.0: 1274})\n",
      "Iteration 31\tConvergance: 0.06167974821008215\n",
      "Counter({0.0: 3636, 3.0: 2278, 1.0: 2277, 4.0: 1940, 2.0: 1274})\n",
      "Iteration 32\tConvergance: 0.026677327185069544\n",
      "Counter({0.0: 3636, 1.0: 2277, 3.0: 2277, 4.0: 1941, 2.0: 1274})\n",
      "Iteration 33\tConvergance: 0.01752946078246964\n",
      "Counter({0.0: 3636, 1.0: 2277, 3.0: 2276, 4.0: 1942, 2.0: 1274})\n",
      "Iteration 34\tConvergance: 0.017526987367631364\n",
      "Counter({0.0: 3636, 1.0: 2278, 3.0: 2275, 4.0: 1942, 2.0: 1274})\n",
      "Iteration 35\tConvergance: 0.008395613655096668\n",
      "Counter({0.0: 3636, 1.0: 2277, 3.0: 2275, 4.0: 1943, 2.0: 1274})\n",
      "Iteration 36\tConvergance: 0.009128828804961131\n",
      "Counter({0.0: 3636, 1.0: 2278, 3.0: 2274, 4.0: 1943, 2.0: 1274})\n",
      "Iteration 37\tConvergance: 0.008395701111510334\n",
      "Counter({0.0: 3636, 1.0: 2278, 3.0: 2274, 4.0: 1943, 2.0: 1274})\n",
      "Iteration 38\tConvergance: 0.0\n"
     ]
    }
   ],
   "source": [
    "# kmeans clustering - semi-unsupurvised\n",
    "kmeans = SemiKMeans(n_clusters = 5, labeled_data = know_data, weight=1, max_iter=100, verbose=True)\n",
    "kmeans_semi_results = kmeans.fit_predict(data_noxyz.values)\n",
    "kmeans_semi_results = [int(x) for x in kmeans_semi_results]\n",
    "\n",
    "label = pd.DataFrame({'part_num':data[\"part_num\"],'label':kmeans_semi_results})\n",
    "label.to_csv('labels_semi_locs.csv',header=True, index=False)"
   ]
  },
  {
   "cell_type": "markdown",
   "metadata": {},
   "source": [
    "### Lack of Rail Seat Support"
   ]
  },
  {
   "cell_type": "code",
   "execution_count": 34,
   "metadata": {},
   "outputs": [
    {
     "name": "stdout",
     "output_type": "stream",
     "text": [
      "../data/50mph/lorss_d20out/lorss_d20out_Step1.csv\n"
     ]
    }
   ],
   "source": [
    "%matplotlib qt\n",
    "\n",
    "from semi_kmeans_util import SemiKMeans\n",
    "\n",
    "folder = \"lorss_d20out\"\n",
    "data = read_data(folder)\n",
    "\n",
    "# define pre-labeled points\n",
    "def check_range(x):\n",
    "    if 1.75 < x[\"centroid_x\"] < 3.25 and 0.2 < x[\"centroid_z\"] < 0.4:\n",
    "        return True\n",
    "    else:\n",
    "        return False\n",
    "    \n",
    "idx  = [i for i, v in data.iterrows() if check_range(v)]\n",
    "\n",
    "data = feature_engineering(data)\n",
    "data = data_preprocess(data)\n",
    "data_noxyz = data.drop(['centroid_x', 'centroid_y', 'centroid_z'], axis=1)\n",
    "\n",
    "know_data = np.array([idx, [], [], [], []])"
   ]
  },
  {
   "cell_type": "code",
   "execution_count": 35,
   "metadata": {},
   "outputs": [
    {
     "name": "stdout",
     "output_type": "stream",
     "text": [
      "Counter({0.0: 3051, 1.0: 3038, 2.0: 2421, 4.0: 1976, 3.0: 1291})\n",
      "Iteration 1\tConvergance: 3.6839593221530436\n",
      "Counter({0.0: 3391, 1.0: 2766, 2.0: 2578, 4.0: 1810, 3.0: 1232})\n",
      "Iteration 2\tConvergance: 1.5477617978141893\n",
      "Counter({0.0: 3496, 2.0: 2627, 1.0: 2598, 4.0: 1822, 3.0: 1234})\n",
      "Iteration 3\tConvergance: 1.6525782494678367\n",
      "Counter({0.0: 3550, 2.0: 2622, 1.0: 2512, 4.0: 1845, 3.0: 1248})\n",
      "Iteration 4\tConvergance: 1.6111198211980593\n",
      "Counter({0.0: 3579, 2.0: 2596, 1.0: 2468, 4.0: 1878, 3.0: 1256})\n",
      "Iteration 5\tConvergance: 1.26400590481353\n",
      "Counter({0.0: 3597, 2.0: 2565, 1.0: 2443, 4.0: 1906, 3.0: 1266})\n",
      "Iteration 6\tConvergance: 1.1119873206886837\n",
      "Counter({0.0: 3610, 2.0: 2535, 1.0: 2426, 4.0: 1933, 3.0: 1273})\n",
      "Iteration 7\tConvergance: 0.9211331981001933\n",
      "Counter({0.0: 3622, 2.0: 2509, 1.0: 2415, 4.0: 1958, 3.0: 1273})\n",
      "Iteration 8\tConvergance: 0.6618550081897183\n",
      "Counter({0.0: 3638, 2.0: 2487, 1.0: 2407, 4.0: 1972, 3.0: 1273})\n",
      "Iteration 9\tConvergance: 0.5976838504334125\n",
      "Counter({0.0: 3645, 2.0: 2468, 1.0: 2399, 4.0: 1990, 3.0: 1275})\n",
      "Iteration 10\tConvergance: 0.5020445593145269\n",
      "Counter({0.0: 3651, 2.0: 2451, 1.0: 2393, 4.0: 2004, 3.0: 1278})\n",
      "Iteration 11\tConvergance: 0.4571620217798795\n",
      "Counter({0.0: 3660, 2.0: 2438, 1.0: 2386, 4.0: 2012, 3.0: 1281})\n",
      "Iteration 12\tConvergance: 0.422070572112915\n",
      "Counter({0.0: 3661, 2.0: 2427, 1.0: 2379, 4.0: 2026, 3.0: 1284})\n",
      "Iteration 13\tConvergance: 0.31718232169993144\n",
      "Counter({0.0: 3661, 2.0: 2416, 1.0: 2379, 4.0: 2035, 3.0: 1286})\n",
      "Iteration 14\tConvergance: 0.227239175013068\n",
      "Counter({0.0: 3665, 2.0: 2408, 1.0: 2377, 4.0: 2040, 3.0: 1287})\n",
      "Iteration 15\tConvergance: 0.21007757819438666\n",
      "Counter({0.0: 3669, 2.0: 2402, 1.0: 2374, 4.0: 2043, 3.0: 1289})\n",
      "Iteration 16\tConvergance: 0.20179671234507168\n",
      "Counter({0.0: 3673, 2.0: 2396, 1.0: 2372, 4.0: 2045, 3.0: 1291})\n",
      "Iteration 17\tConvergance: 0.1926187396416026\n",
      "Counter({0.0: 3676, 2.0: 2391, 1.0: 2371, 4.0: 2046, 3.0: 1293})\n",
      "Iteration 18\tConvergance: 0.157564851536506\n",
      "Counter({0.0: 3676, 2.0: 2387, 1.0: 2369, 4.0: 2051, 3.0: 1294})\n",
      "Iteration 19\tConvergance: 0.10536954602761739\n",
      "Counter({0.0: 3676, 2.0: 2384, 1.0: 2367, 4.0: 2055, 3.0: 1295})\n",
      "Iteration 20\tConvergance: 0.08796485702822565\n",
      "Counter({0.0: 3676, 2.0: 2381, 1.0: 2366, 4.0: 2059, 3.0: 1295})\n",
      "Iteration 21\tConvergance: 0.061217760275468436\n",
      "Counter({0.0: 3676, 2.0: 2378, 1.0: 2367, 4.0: 2061, 3.0: 1295})\n",
      "Iteration 22\tConvergance: 0.043171022921114854\n",
      "Counter({0.0: 3676, 2.0: 2376, 1.0: 2367, 4.0: 2063, 3.0: 1295})\n",
      "Iteration 23\tConvergance: 0.03481794510364011\n",
      "Counter({0.0: 3676, 2.0: 2375, 1.0: 2366, 4.0: 2065, 3.0: 1295})\n",
      "Iteration 24\tConvergance: 0.02642549637099023\n",
      "Counter({0.0: 3676, 2.0: 2374, 1.0: 2366, 4.0: 2066, 3.0: 1295})\n",
      "Iteration 25\tConvergance: 0.017400431894429857\n",
      "Counter({0.0: 3676, 2.0: 2373, 1.0: 2366, 4.0: 2067, 3.0: 1295})\n",
      "Iteration 26\tConvergance: 0.017403462917826573\n",
      "Counter({0.0: 3676, 2.0: 2372, 1.0: 2366, 4.0: 2068, 3.0: 1295})\n",
      "Iteration 27\tConvergance: 0.01739800485668752\n",
      "Counter({0.0: 3676, 2.0: 2372, 1.0: 2365, 4.0: 2069, 3.0: 1295})\n",
      "Iteration 28\tConvergance: 0.009017799724915676\n",
      "Counter({0.0: 3676, 2.0: 2371, 1.0: 2366, 4.0: 2069, 3.0: 1295})\n",
      "Iteration 29\tConvergance: 0.008387011451986837\n",
      "Counter({0.0: 3676, 2.0: 2371, 1.0: 2366, 4.0: 2069, 3.0: 1295})\n",
      "Iteration 30\tConvergance: 0.0\n"
     ]
    }
   ],
   "source": [
    "# kmeans clustering - semi-unsupurvised\n",
    "kmeans = SemiKMeans(n_clusters = 5, labeled_data = know_data, weight=1, max_iter=100, verbose=True)\n",
    "kmeans_semi_results = kmeans.fit_predict(data_noxyz.values)\n",
    "kmeans_semi_results = [int(x) for x in kmeans_semi_results]\n",
    "\n",
    "label = pd.DataFrame({'part_num':data[\"part_num\"],'label':kmeans_semi_results})\n",
    "label.to_csv('labels_semi_lorss.csv',header=True, index=False)"
   ]
  },
  {
   "cell_type": "code",
   "execution_count": null,
   "metadata": {},
   "outputs": [],
   "source": []
  }
 ],
 "metadata": {
  "kernelspec": {
   "display_name": "Python 3",
   "language": "python",
   "name": "python3"
  },
  "language_info": {
   "codemirror_mode": {
    "name": "ipython",
    "version": 3
   },
   "file_extension": ".py",
   "mimetype": "text/x-python",
   "name": "python",
   "nbconvert_exporter": "python",
   "pygments_lexer": "ipython3",
   "version": "3.7.3"
  }
 },
 "nbformat": 4,
 "nbformat_minor": 2
}
