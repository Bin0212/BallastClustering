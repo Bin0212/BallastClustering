{
 "cells": [
  {
   "cell_type": "markdown",
   "metadata": {},
   "source": [
    "# Import Library"
   ]
  },
  {
   "cell_type": "code",
   "execution_count": 3,
   "metadata": {},
   "outputs": [],
   "source": [
    "import pandas as pd\n",
    "import numpy as np\n",
    "import seaborn as sns\n",
    "import matplotlib.pyplot as plt\n",
    "\n",
    "from sklearn import cluster\n",
    "from sklearn import mixture\n",
    "from sklearn import preprocessing\n",
    "from collections import Counter\n",
    "from mpl_toolkits.mplot3d import Axes3D"
   ]
  },
  {
   "cell_type": "markdown",
   "metadata": {},
   "source": [
    "# Data Preprocess"
   ]
  },
  {
   "cell_type": "markdown",
   "metadata": {},
   "source": [
    "### Utility Functions"
   ]
  },
  {
   "cell_type": "code",
   "execution_count": 4,
   "metadata": {},
   "outputs": [],
   "source": [
    "def read_data(folder, step):\n",
    "    \"\"\"\n",
    "    read single step particle property file\n",
    "    \"\"\"\n",
    "    # define file path and read in the file as dataframe\n",
    "    file_path = \"../data/50mph/\" + str(folder) + \"/\" + str(folder) + str(step)\n",
    "    data = pd.read_csv(file_path)\n",
    "    \n",
    "    return data\n",
    "    \n",
    "def match_partnum(df1, df2):\n",
    "    \"\"\"\n",
    "    ensure dataframe df1 and df2 have same part_num\n",
    "    \"\"\"\n",
    "    # find part_num differences between two dataframes\n",
    "    diff1 = list(set(df1[\"part_num\"]) - set(df2[\"part_num\"]))\n",
    "    diff2 = list(set(df2[\"part_num\"]) - set(df1[\"part_num\"]))\n",
    "    \n",
    "    # drop rows containing part_num that only exist in one of the dataframes\n",
    "    del_row_idx1 = []\n",
    "    del_row_idx2 = []\n",
    "    for i in range(len(diff1)):\n",
    "        del_row_idx1.append(int(np.where(df1[\"part_num\"] == diff1[i])[0]))\n",
    "    df1 = df1.drop(del_row_idx1, axis=0)\n",
    "\n",
    "    for i in range(len(diff2)):\n",
    "        del_row_idx2.append(int(np.where(df2[\"part_num\"] == diff2[i])[0]))\n",
    "    df2 = df2.drop(del_row_idx2, axis=0)\n",
    "\n",
    "    # reset dataframe index to range(part_num), otherwise there is a mismatch of index between \n",
    "    # df1 and df2 since index won't be reassigned when droping rows. Such mismatch leads\n",
    "    # NaN values when calculating particle movement\n",
    "    df1 = df1.set_index(pd.Index(range(len(df1[\"part_num\"]))))\n",
    "    df2 = df2.set_index(pd.Index(range(len(df2[\"part_num\"]))))\n",
    "    \n",
    "    return df1, df2\n",
    "\n",
    "def util_winsorization(df):\n",
    "    \"\"\"helper function to perform winsorization\"\"\"\n",
    "    # find the threshold for winsorization\n",
    "    p = 0.95\n",
    "    quantile_value = np.quantile(df, p)\n",
    "    \n",
    "    # apply winsorizaiton on the given column df\n",
    "    df = df.apply(lambda x: x if x < quantile_value else quantile_value)\n",
    "    \n",
    "    return df\n",
    "\n",
    "def preprocess(df):\n",
    "    \"\"\"\n",
    "    collections of functions to preprocess dataframe before clustering analysis\n",
    "    \"\"\"\n",
    "    # change movement into absolute values\n",
    "    df.iloc[:,4:7] = np.abs(df.iloc[:,4:7])\n",
    "\n",
    "    # take natural logarithm for movement columns, min_value added to fix extreme value cases\n",
    "    min_value = 1e-5\n",
    "    df.iloc[:,4:7] = np.log(df.iloc[:,4:7] + min_value)\n",
    "    \n",
    "    # winsorization is not suitable for movement only clustering, it actually makes the clustering results worse\n",
    "    # df.iloc[:,4:7] = df.iloc[:,4:7].apply(util_winsorization, axis = 0)\n",
    "    \n",
    "    # standardization \n",
    "    tmp = pd.DataFrame(preprocessing.scale(df.iloc[:,4:7]))\n",
    "    tmp = tmp.set_index(pd.Index(range(len(df[\"part_num\"]))))\n",
    "    tmp.columns = df.columns[4:7]\n",
    "    df.iloc[:,4:7] = tmp\n",
    "    \n",
    "    return df\n",
    "\n",
    "def cross_section(df, x_range=None, y_range=None, z_range=None):\n",
    "    \"\"\"choose part_num within the given x, y, z range\"\"\"\n",
    "    \n",
    "    if x_range != None:\n",
    "        df = df.loc[(df['x'] >= x_range[0]) & (df['x'] <= x_range[1])]\n",
    "    if y_range != None:\n",
    "        df = df.loc[(df['y'] >= y_range[0]) & (df['y'] <= y_range[1])]\n",
    "    if z_range != None:\n",
    "        df = df.loc[(df['z'] >= z_range[0]) & (df['z'] <= z_range[1])]\n",
    "    \n",
    "    return df[\"part_num\"]\n",
    "    "
   ]
  },
  {
   "cell_type": "markdown",
   "metadata": {},
   "source": [
    "# Clustering\n",
    "### Center Binding"
   ]
  },
  {
   "cell_type": "code",
   "execution_count": 5,
   "metadata": {},
   "outputs": [],
   "source": [
    "# set folder name and file name\n",
    "folder_init, folder_final = \"cb_d9out\", \"cb_d16out\"\n",
    "step_init, step_final = \"_Step1.csv\", \"_Step303.csv\"\n",
    "\n",
    "# read initial state file and final state file\n",
    "init_state = read_data(folder_init, step_init)\n",
    "final_state = read_data(folder_final, step_final)\n",
    "\n",
    "# remove particles not exist in both files \n",
    "init_state, final_state = match_partnum(init_state, final_state)\n",
    "\n",
    "# calculate particle movement in x, y, z directions\n",
    "part_movement = []\n",
    "part_movement = final_state.iloc[:,2:5] - init_state.iloc[:,2:5]\n",
    "\n",
    "# finalize particle movement dataframe\n",
    "part_movement = pd.concat([final_state[\"part_num\"].astype(int), final_state.iloc[:,2:5],\n",
    "                           part_movement], axis=1)\n",
    "part_movement.index.name = \"\"\n",
    "part_movement.columns = ['part_num', 'x', 'y', 'z', 'movement_x', 'movement_y', 'movement_z']\n",
    "\n",
    "# preprocess dataframe\n",
    "part_movement = preprocess(part_movement)\n"
   ]
  },
  {
   "cell_type": "code",
   "execution_count": 6,
   "metadata": {},
   "outputs": [
    {
     "data": {
      "text/plain": [
       "<matplotlib.axes._subplots.AxesSubplot at 0x1066be550>"
      ]
     },
     "execution_count": 6,
     "metadata": {},
     "output_type": "execute_result"
    },
    {
     "data": {
      "image/png": "[encoded data removed]",
      "text/plain": [
       "<Figure size 432x288 with 1 Axes>"
      ]
     },
     "metadata": {
      "needs_background": "light"
     },
     "output_type": "display_data"
    }
   ],
   "source": [
    "%matplotlib inline\n",
    "\n",
    "# get a intuition of data distributions\n",
    "sns.distplot(pd.DataFrame(part_movement[\"movement_z\"]))\n"
   ]
  },
  {
   "cell_type": "code",
   "execution_count": 8,
   "metadata": {},
   "outputs": [
    {
     "name": "stdout",
     "output_type": "stream",
     "text": [
      "Counter({1: 3396, 3: 3249, 4: 2253, 0: 1468, 2: 1060})\n"
     ]
    }
   ],
   "source": [
    "import visualization_util as vs\n",
    "# unsuperised kmeans clustering\n",
    "kmeans = cluster.KMeans(n_clusters = 5, n_init = 10, random_state = 0).fit(part_movement.iloc[:,4:7])\n",
    "\n",
    "# check clustering distribution\n",
    "print(Counter(kmeans.labels_))\n",
    "\n",
    "# saving labels to csv file\n",
    "label = pd.DataFrame({'part_num':part_movement[\"part_num\"],'label':kmeans.labels_})\n",
    "label.to_csv('../output/labels_movement_cb.csv',header=True, index=False)\n",
    "\n",
    "# visualization\n",
    "vs.plot('../output/labels_movement_cb.csv', 'CenterBinding.v3d','library.vlb')"
   ]
  },
  {
   "cell_type": "code",
   "execution_count": 9,
   "metadata": {},
   "outputs": [],
   "source": [
    "# visualization ballast cross section\n",
    "# print(max(part_movement['x']), min(part_movement['x']))\n",
    "# print(max(part_movement['y']), min(part_movement['y']))\n",
    "# print(max(part_movement['z']), min(part_movement['z']))\n",
    "\n",
    "y_range = [0.85, 1.05]\n",
    "part_num = cross_section(part_movement, y_range=y_range)\n",
    "label = [label for row_idx, label in enumerate(kmeans.labels_) if row_idx in part_num.index.values]\n",
    "\n",
    "save = pd.DataFrame({'part_num':part_num,'label':label})\n",
    "save.to_csv('../output/labels_movement_cross_cb.csv',header=True, index=False)\n",
    "vs.plot('../output/labels_movement_cross_cb.csv', 'CenterBinding.v3d','library.vlb')"
   ]
  },
  {
   "cell_type": "markdown",
   "metadata": {},
   "source": [
    "### Full Support"
   ]
  },
  {
   "cell_type": "code",
   "execution_count": 11,
   "metadata": {},
   "outputs": [],
   "source": [
    "# set folder name and file name\n",
    "folder_init, folder_final = \"fs_d7out\", \"fs_d14out\"\n",
    "step_init, step_final = \"_Step1.csv\", \"_Step303.csv\"\n",
    "\n",
    "# read initial state file and final state file\n",
    "init_state = read_data(folder_init, step_init)\n",
    "final_state = read_data(folder_final, step_final)\n",
    "\n",
    "# remove particles not exist in both files \n",
    "init_state, final_state = match_partnum(init_state, final_state)\n",
    "\n",
    "# print(list(set(init_state[\"part_num\"]) - set(final_state[\"part_num\"])))\n",
    "# calculate particle movement in x, y, z directions\n",
    "part_movement = []\n",
    "part_movement = final_state.iloc[:,2:5] - init_state.iloc[:,2:5]\n",
    "# finalize particle movement dataframe\n",
    "\n",
    "part_movement = pd.concat([final_state[\"part_num\"].astype(int), final_state.iloc[:,2:5],\n",
    "                           part_movement], axis=1)\n",
    "part_movement.index.name = \"\"\n",
    "part_movement.columns = ['part_num', 'x', 'y', 'z', 'movement_x', 'movement_y', 'movement_z']\n",
    "\n",
    "# preprocess dataframe\n",
    "# print(part_movement.iloc[:,:7])\n",
    "part_movement = preprocess(part_movement)\n"
   ]
  },
  {
   "cell_type": "code",
   "execution_count": 12,
   "metadata": {},
   "outputs": [
    {
     "name": "stdout",
     "output_type": "stream",
     "text": [
      "Counter({0: 3740, 2: 2472, 4: 1633, 1: 1626, 3: 1148})\n"
     ]
    }
   ],
   "source": [
    "# unsuperised kmeans clustering\n",
    "kmeans = cluster.KMeans(n_clusters = 5, n_init = 10, random_state = 0).fit(part_movement.iloc[:,4:7])\n",
    "\n",
    "# check clustering distribution\n",
    "print(Counter(kmeans.labels_))\n",
    "\n",
    "# saving labels to csv file\n",
    "label = pd.DataFrame({'part_num':part_movement[\"part_num\"],'label':kmeans.labels_})\n",
    "label.to_csv('../output/labels_movement_fs.csv',header=True, index=False)\n",
    "\n",
    "# visualization\n",
    "vs.plot('../output/labels_movement_fs.csv', 'FullSup.v3d','library.vlb')"
   ]
  },
  {
   "cell_type": "code",
   "execution_count": 19,
   "metadata": {},
   "outputs": [],
   "source": [
    "# visualization ballast cross section\n",
    "y_range = [0.85, 1.05]\n",
    "part_num = cross_section(part_movement, y_range=y_range)\n",
    "label = [label for row_idx, label in enumerate(kmeans.labels_) if row_idx in part_num.index.values]\n",
    "\n",
    "save = pd.DataFrame({'part_num':part_num,'label':label})\n",
    "save.to_csv('../output/labels_movement_cross_fs.csv',header=True, index=False)\n",
    "vs.plot('../output/labels_movement_cross_fs.csv', 'FullSup.v3d','library.vlb')"
   ]
  },
  {
   "cell_type": "markdown",
   "metadata": {},
   "source": [
    "### Lack of Center Support"
   ]
  },
  {
   "cell_type": "code",
   "execution_count": 16,
   "metadata": {},
   "outputs": [],
   "source": [
    "# set folder name and file name\n",
    "folder_init, folder_final = \"locs_d9out\", \"locs_d16out\"\n",
    "step_init, step_final = \"_Step1.csv\", \"_Step303.csv\"\n",
    "\n",
    "# read initial state file and final state file\n",
    "init_state = read_data(folder_init, step_init)\n",
    "final_state = read_data(folder_final, step_final)\n",
    "\n",
    "# remove particles not exist in both files \n",
    "init_state, final_state = match_partnum(init_state, final_state)\n",
    "\n",
    "# print(list(set(init_state[\"part_num\"]) - set(final_state[\"part_num\"])))\n",
    "# calculate particle movement in x, y, z directions\n",
    "part_movement = []\n",
    "part_movement = final_state.iloc[:,2:5] - init_state.iloc[:,2:5]\n",
    "# finalize particle movement dataframe\n",
    "\n",
    "part_movement = pd.concat([final_state[\"part_num\"].astype(int), final_state.iloc[:,2:5],\n",
    "                           part_movement], axis=1)\n",
    "part_movement.index.name = \"\"\n",
    "part_movement.columns = ['part_num', 'x', 'y', 'z', 'movement_x', 'movement_y', 'movement_z']\n",
    "\n",
    "# preprocess dataframe\n",
    "# print(part_movement.iloc[:,:7])\n",
    "part_movement = preprocess(part_movement)\n"
   ]
  },
  {
   "cell_type": "code",
   "execution_count": 17,
   "metadata": {},
   "outputs": [
    {
     "name": "stdout",
     "output_type": "stream",
     "text": [
      "Counter({1: 4352, 2: 2094, 0: 1842, 4: 1679, 3: 1438})\n"
     ]
    }
   ],
   "source": [
    "# unsuperised kmeans clustering\n",
    "kmeans = cluster.KMeans(n_clusters = 5, n_init = 10, random_state = 0).fit(part_movement.iloc[:,4:7])\n",
    "print(Counter(kmeans.labels_))\n",
    "label = pd.DataFrame({'part_num':part_movement[\"part_num\"],'label':kmeans.labels_})\n",
    "label.to_csv('../output/labels_movement_locs.csv',header=True, index=False)\n",
    "\n",
    "vs.plot('../output/labels_movement_locs.csv', 'LackofCenterSup.v3d','library.vlb')"
   ]
  },
  {
   "cell_type": "code",
   "execution_count": 27,
   "metadata": {},
   "outputs": [],
   "source": [
    "# visualization ballast cross section\n",
    "y_range = [0.85, 1.05]\n",
    "x_range = [1.5, 2.5]\n",
    "part_num = cross_section(part_movement, x_range=x_range)\n",
    "label = [label for row_idx, label in enumerate(kmeans.labels_) if row_idx in part_num.index.values]\n",
    "\n",
    "save = pd.DataFrame({'part_num':part_num,'label':label})\n",
    "save.to_csv('../output/labels_movement_cross_locs.csv',header=True, index=False)\n",
    "vs.plot('../output/labels_movement_cross_locs.csv', 'LackofCenterSup.v3d','library.vlb')"
   ]
  },
  {
   "cell_type": "markdown",
   "metadata": {},
   "source": [
    "### Lack of Rail Seat Support"
   ]
  },
  {
   "cell_type": "code",
   "execution_count": 28,
   "metadata": {},
   "outputs": [],
   "source": [
    "# set folder name and file name\n",
    "folder_init, folder_final = \"lorss_d13out\", \"lorss_d20out\"\n",
    "step_init, step_final = \"_Step1.csv\", \"_Step303.csv\"\n",
    "\n",
    "# read initial state file and final state file\n",
    "init_state = read_data(folder_init, step_init)\n",
    "final_state = read_data(folder_final, step_final)\n",
    "\n",
    "# remove particles not exist in both files \n",
    "init_state, final_state = match_partnum(init_state, final_state)\n",
    "\n",
    "# print(list(set(init_state[\"part_num\"]) - set(final_state[\"part_num\"])))\n",
    "# calculate particle movement in x, y, z directions\n",
    "part_movement = []\n",
    "part_movement = final_state.iloc[:,2:5] - init_state.iloc[:,2:5]\n",
    "# finalize particle movement dataframe\n",
    "\n",
    "part_movement = pd.concat([final_state[\"part_num\"].astype(int), final_state.iloc[:,2:5],\n",
    "                           part_movement], axis=1)\n",
    "part_movement.index.name = \"\"\n",
    "part_movement.columns = ['part_num', 'x', 'y', 'z', 'movement_x', 'movement_y', 'movement_z']\n",
    "\n",
    "# preprocess dataframe\n",
    "# print(part_movement.iloc[:,:7])\n",
    "part_movement = preprocess(part_movement)\n"
   ]
  },
  {
   "cell_type": "code",
   "execution_count": 29,
   "metadata": {},
   "outputs": [
    {
     "name": "stdout",
     "output_type": "stream",
     "text": [
      "Counter({4: 3883, 2: 2787, 1: 2191, 0: 1673, 3: 1243})\n"
     ]
    }
   ],
   "source": [
    "# unsuperised kmeans clustering\n",
    "kmeans = cluster.KMeans(n_clusters = 5, n_init = 10, random_state = 0).fit(part_movement.iloc[:,4:7])\n",
    "print(Counter(kmeans.labels_))\n",
    "label = pd.DataFrame({'part_num':part_movement[\"part_num\"],'label':kmeans.labels_})\n",
    "label.to_csv('../output/labels_movement_lorss.csv',header=True, index=False)\n",
    "vs.plot('../output/labels_movement_lorss.csv', 'LackofRailSeatSup.v3d','library.vlb')"
   ]
  },
  {
   "cell_type": "code",
   "execution_count": 32,
   "metadata": {},
   "outputs": [],
   "source": [
    "# visualization ballast cross section\n",
    "y_range = [0.85, 1.05]\n",
    "part_num = cross_section(part_movement, y_range=y_range)\n",
    "label = [label for row_idx, label in enumerate(kmeans.labels_) if row_idx in part_num.index.values]\n",
    "\n",
    "save = pd.DataFrame({'part_num':part_num,'label':label})\n",
    "save.to_csv('../output/labels_movement_cross_lorss.csv',header=True, index=False)\n",
    "vs.plot('../output/labels_movement_cross_lorss.csv', 'LackofRailSeatSup.v3d','library.vlb')"
   ]
  },
  {
   "cell_type": "code",
   "execution_count": null,
   "metadata": {},
   "outputs": [],
   "source": []
  }
 ],
 "metadata": {
  "kernelspec": {
   "display_name": "Python [conda env:research] *",
   "language": "python",
   "name": "conda-env-research-py"
  },
  "language_info": {
   "codemirror_mode": {
    "name": "ipython",
    "version": 3
   },
   "file_extension": ".py",
   "mimetype": "text/x-python",
   "name": "python",
   "nbconvert_exporter": "python",
   "pygments_lexer": "ipython3",
   "version": "3.7.3"
  }
 },
 "nbformat": 4,
 "nbformat_minor": 2
}
