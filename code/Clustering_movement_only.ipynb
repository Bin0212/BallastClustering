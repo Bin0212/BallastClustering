{
 "cells": [
  {
   "cell_type": "markdown",
   "metadata": {},
   "source": [
    "# Import Library"
   ]
  },
  {
   "cell_type": "code",
   "execution_count": 1,
   "metadata": {},
   "outputs": [],
   "source": [
    "import pandas as pd\n",
    "import numpy as np\n",
    "import seaborn as sns\n",
    "import matplotlib.pyplot as plt\n",
    "\n",
    "from sklearn import cluster\n",
    "from sklearn import mixture\n",
    "from sklearn import preprocessing\n",
    "from collections import Counter\n",
    "from mpl_toolkits.mplot3d import Axes3D"
   ]
  },
  {
   "cell_type": "markdown",
   "metadata": {},
   "source": [
    "# Data Preprocess\n",
    "### Reading data"
   ]
  },
  {
   "cell_type": "code",
   "execution_count": 2,
   "metadata": {},
   "outputs": [],
   "source": [
    "def read_data(folder, step):\n",
    "    file_path = \"../data/50mph/\" + str(folder) + \"/\" + str(folder) + str(step)\n",
    "\n",
    "    data = pd.read_csv(file_path)\n",
    "    \n",
    "    return data\n",
    "    "
   ]
  },
  {
   "cell_type": "markdown",
   "metadata": {},
   "source": [
    "### Utility Functions"
   ]
  },
  {
   "cell_type": "code",
   "execution_count": 3,
   "metadata": {},
   "outputs": [],
   "source": [
    "def match_partnum(df1, df2):\n",
    "    diff1 = list(set(df1[\"part_num\"]) - set(df2[\"part_num\"]))\n",
    "    diff2 = list(set(df2[\"part_num\"]) - set(df1[\"part_num\"]))\n",
    "    \n",
    "    del_row_idx1 = []\n",
    "    del_row_idx2 = []\n",
    "    for i in range(len(diff1)):\n",
    "        del_row_idx1.append(int(np.where(df1[\"part_num\"] == diff1[i])[0]))\n",
    "    df1 = df1.drop(del_row_idx1, axis=0)\n",
    "\n",
    "    for i in range(len(diff2)):\n",
    "        del_row_idx2.append(int(np.where(df2[\"part_num\"] == diff2[i])[0]))\n",
    "    df2 = df2.drop(del_row_idx2, axis=0)\n",
    "\n",
    "    # set dataframe index to part_num, otherwise there is a mismatch of index between \n",
    "    # df1 and df2 since index won't be reassigned when droping rows. Such mismatch leads\n",
    "    # NaN values when calculating particle movement\n",
    "#     df1 = df1.set_index(pd.Index(df1[\"part_num\"]))\n",
    "#     df2 = df2.set_index(pd.Index(df2[\"part_num\"]))\n",
    "    df1 = df1.set_index(pd.Index(range(len(df1[\"part_num\"]))))\n",
    "    df2 = df2.set_index(pd.Index(range(len(df2[\"part_num\"]))))\n",
    "#     print(range(len(df1[\"part_num\"])))\n",
    "#     print(range(len(df2[\"part_num\"])))\n",
    "    \n",
    "    return df1, df2\n",
    "\n",
    "def util_winsorization(df):\n",
    "    p = 0.95\n",
    "    quantile_value = np.quantile(df, p)\n",
    "    \n",
    "    df = df.apply(lambda x: x if x < quantile_value else quantile_value)\n",
    "    \n",
    "    return df\n",
    "\n",
    "def preprocess(df):\n",
    "    # change movement into absolute values\n",
    "    df.iloc[:,4:7] = np.abs(df.iloc[:,4:7])\n",
    "\n",
    "    # take natural logarithm for movement columns\n",
    "    min_value = 1e-5\n",
    "    df.iloc[:,4:7] = np.log(df.iloc[:,4:7] + min_value)\n",
    "    \n",
    "    # winsorization is not suitable here, it actually makes the clustering results worse\n",
    "#     df.iloc[:,4:7] = df.iloc[:,4:7].apply(util_winsorization, axis = 0)\n",
    "    \n",
    "    # data standardization \n",
    "    tmp = pd.DataFrame(preprocessing.scale(df.iloc[:,4:7]))\n",
    "    tmp = tmp.set_index(pd.Index(range(len(df[\"part_num\"]))))\n",
    "    tmp.columns = df.columns[4:7]\n",
    "    df.iloc[:,4:7] = tmp\n",
    "    \n",
    "    return df\n",
    "\n",
    "def cross_section(df, x_range=None, y_range=None, z_range=None):\n",
    "    if x_range != None:\n",
    "        df = df.loc[(df['x'] >= x_range[0]) & (df['x'] <= x_range[1])]\n",
    "    if y_range != None:\n",
    "        df = df.loc[(df['y'] >= x_range[0]) & (df['y'] <= x_range[1])]\n",
    "    if z_range != None:\n",
    "        df = df.loc[(df['z'] >= x_range[0]) & (df['z'] <= x_range[1])]\n",
    "    \n",
    "    return df\n",
    "    \n",
    "    "
   ]
  },
  {
   "cell_type": "markdown",
   "metadata": {},
   "source": [
    "# Clustering\n",
    "### Center Binding"
   ]
  },
  {
   "cell_type": "code",
   "execution_count": 4,
   "metadata": {},
   "outputs": [],
   "source": [
    "# set folder name and file name\n",
    "folder_init, folder_final = \"cb_d9out\", \"cb_d16out\"\n",
    "step_init, step_final = \"_Step1.csv\", \"_Step303.csv\"\n",
    "\n",
    "# read initial state file and final state file\n",
    "init_state = read_data(folder_init, step_init)\n",
    "final_state = read_data(folder_final, step_final)\n",
    "\n",
    "# remove particles not exist in both files \n",
    "init_state, final_state = match_partnum(init_state, final_state)\n",
    "# print(init_state.head())\n",
    "# print(final_state.head())\n",
    "# calculate particle movement in x, y, z directions\n",
    "part_movement = []\n",
    "part_movement = final_state.iloc[:,2:5] - init_state.iloc[:,2:5]\n",
    "\n",
    "# finalize particle movement dataframe\n",
    "part_movement = pd.concat([final_state[\"part_num\"].astype(int), final_state.iloc[:,2:5],\n",
    "                           part_movement], axis=1)\n",
    "part_movement.index.name = \"\"\n",
    "part_movement.columns = ['part_num', 'x', 'y', 'z', 'movement_x', 'movement_y', 'movement_z']\n",
    "# preprocess dataframe\n",
    "# print(part_movement.iloc[:,:7])\n",
    "part_movement = preprocess(part_movement)\n",
    "# part_movement\n",
    "# print(max(part_movement['x']), min(part_movement['x']))\n",
    "# print(max(part_movement['y']), min(part_movement['y']))\n",
    "# print(max(part_movement['z']), min(part_movement['z']))"
   ]
  },
  {
   "cell_type": "code",
   "execution_count": 5,
   "metadata": {},
   "outputs": [
    {
     "data": {
      "text/plain": [
       "<matplotlib.axes._subplots.AxesSubplot at 0x1a1c07aac8>"
      ]
     },
     "execution_count": 5,
     "metadata": {},
     "output_type": "execute_result"
    },
    {
     "data": {
      "image/png": "[encoded data removed]",
      "text/plain": [
       "<Figure size 432x288 with 1 Axes>"
      ]
     },
     "metadata": {
      "needs_background": "light"
     },
     "output_type": "display_data"
    }
   ],
   "source": [
    "%matplotlib inline\n",
    "\n",
    "# get a intuition of data distributions\n",
    "sns.distplot(pd.DataFrame(part_movement[\"movement_z\"]))\n"
   ]
  },
  {
   "cell_type": "code",
   "execution_count": 6,
   "metadata": {},
   "outputs": [
    {
     "name": "stdout",
     "output_type": "stream",
     "text": [
      "1555\n",
      "Counter({0: 4909, 1: 3539, 3: 1629, 2: 1349})\n"
     ]
    }
   ],
   "source": [
    "import visualization_util as vs\n",
    "\n",
    "# unsuperised kmeans clustering\n",
    "kmeans = cluster.KMeans(n_clusters = 4, n_init = 10, random_state = 0).fit(part_movement.iloc[:,4:7])\n",
    "print(Counter(kmeans.labels_))\n",
    "label = pd.DataFrame({'part_num':part_movement[\"part_num\"],'label':kmeans.labels_})\n",
    "label.to_csv('labels_movement_cb.csv',header=True, index=False)\n"
   ]
  },
  {
   "cell_type": "code",
   "execution_count": 11,
   "metadata": {},
   "outputs": [
    {
     "data": {
      "image/png": "[encoded data removed]",
      "text/plain": [
       "<Figure size 432x288 with 1 Axes>"
      ]
     },
     "metadata": {
      "needs_background": "light"
     },
     "output_type": "display_data"
    }
   ],
   "source": [
    "def plot_coordinate(data, label):\n",
    "    color_map = {0: 'red', 1: 'blue', 2: 'yellow', 3: 'black', 4: 'white',\n",
    "                 5: 'green', 6: 'magenta', 7: 'cyan'}\n",
    "    color = [color_map[labels] for labels in label ]\n",
    "    fig = plt.figure()\n",
    "    ax = fig.add_subplot(1,1,1, projection = '3d')\n",
    "    x, y, z = data[\"x\"], data[\"y\"], data[\"z\"]\n",
    "    ax.scatter(x, y, z, s = 2, c=color, marker='o')\n",
    "    ax.set_xlabel('X Label')\n",
    "    ax.set_ylabel('Y Label')\n",
    "    ax.set_zlabel('Z Label')\n",
    "    plt.show()\n",
    "\n",
    "x_range = [2, 2.5]\n",
    "\n",
    "label = [label for row_idx, label in enumerate(kmeans.labels_) if row_idx in part_num.index.values]\n",
    "\n",
    "part_num = cross_section(part_movement, x_range)\n",
    "plot_coordinate(part_num, label)"
   ]
  },
  {
   "cell_type": "code",
   "execution_count": 128,
   "metadata": {},
   "outputs": [
    {
     "name": "stdout",
     "output_type": "stream",
     "text": [
      "1618\n",
      "[   13    14    15 ... 11415 11424 11425]\n"
     ]
    },
    {
     "data": {
      "text/plain": [
       "\n",
       "13          14\n",
       "14          15\n",
       "15          16\n",
       "17          18\n",
       "18          19\n",
       "52          53\n",
       "53          54\n",
       "54          55\n",
       "55          56\n",
       "56          57\n",
       "89          90\n",
       "90          91\n",
       "91          92\n",
       "92          93\n",
       "93          94\n",
       "94          95\n",
       "128        129\n",
       "129        130\n",
       "130        131\n",
       "131        132\n",
       "132        133\n",
       "166        167\n",
       "167        168\n",
       "168        169\n",
       "169        170\n",
       "170        171\n",
       "203        204\n",
       "204        205\n",
       "205        206\n",
       "206        207\n",
       "         ...  \n",
       "11320    11343\n",
       "11333    11356\n",
       "11334    11357\n",
       "11335    11358\n",
       "11336    11359\n",
       "11347    11371\n",
       "11348    11372\n",
       "11349    11373\n",
       "11350    11374\n",
       "11351    11375\n",
       "11363    11387\n",
       "11364    11388\n",
       "11365    11389\n",
       "11379    11403\n",
       "11380    11404\n",
       "11381    11405\n",
       "11382    11406\n",
       "11383    11407\n",
       "11396    11420\n",
       "11397    11421\n",
       "11398    11422\n",
       "11399    11423\n",
       "11400    11424\n",
       "11411    11435\n",
       "11412    11436\n",
       "11413    11437\n",
       "11414    11438\n",
       "11415    11439\n",
       "11424    11448\n",
       "11425    11449\n",
       "Name: part_num, Length: 1618, dtype: int64"
      ]
     },
     "execution_count": 128,
     "metadata": {},
     "output_type": "execute_result"
    }
   ],
   "source": [
    "import visualization_util as vs\n",
    "x_range = [2, 2.5]\n",
    "part_num = cross_section(part_movement, x_range)\n",
    "print(len(part_num))\n",
    "print(part_num.index.values)\n",
    "label = [label for row_idx, label in enumerate(kmeans.labels_) if row_idx in part_num.index.values]\n",
    "part_num\n",
    "\n",
    "\n",
    "# save = pd.DataFrame({'part_num':part_num,'label':label})\n",
    "# save.to_csv('labels_movement_cross_cb.csv',header=True, index=False)\n",
    "# vs.plot('labels_movement_cross_cb.csv', 'CenterBinding.v3d','library.vlb')"
   ]
  },
  {
   "cell_type": "code",
   "execution_count": 7,
   "metadata": {},
   "outputs": [
    {
     "name": "stdout",
     "output_type": "stream",
     "text": [
      "Terminate program? \n"
     ]
    },
    {
     "ename": "SystemExit",
     "evalue": "",
     "output_type": "error",
     "traceback": [
      "An exception has occurred, use %tb to see the full traceback.\n",
      "\u001b[0;31mSystemExit\u001b[0m\n"
     ]
    },
    {
     "name": "stderr",
     "output_type": "stream",
     "text": [
      "/Users/bin/anaconda3/envs/research/lib/python3.7/site-packages/IPython/core/interactiveshell.py:3304: UserWarning: To exit: use 'exit', 'quit', or Ctrl-D.\n",
      "  warn(\"To exit: use 'exit', 'quit', or Ctrl-D.\", stacklevel=1)\n"
     ]
    }
   ],
   "source": [
    "import visualization_util as vs\n",
    "\n",
    "vs.plot('labels_movement_cb.csv', 'CenterBinding.v3d','library.vlb')"
   ]
  },
  {
   "cell_type": "markdown",
   "metadata": {},
   "source": [
    "### Full Support"
   ]
  },
  {
   "cell_type": "code",
   "execution_count": 13,
   "metadata": {},
   "outputs": [],
   "source": [
    "# set folder name and file name\n",
    "folder_init, folder_final = \"fs_d7out\", \"fs_d14out\"\n",
    "step_init, step_final = \"_Step1.csv\", \"_Step303.csv\"\n",
    "\n",
    "# read initial state file and final state file\n",
    "init_state = read_data(folder_init, step_init)\n",
    "final_state = read_data(folder_final, step_final)\n",
    "\n",
    "# remove particles not exist in both files \n",
    "init_state, final_state = match_partnum(init_state, final_state)\n",
    "\n",
    "# print(list(set(init_state[\"part_num\"]) - set(final_state[\"part_num\"])))\n",
    "# calculate particle movement in x, y, z directions\n",
    "part_movement = []\n",
    "part_movement = final_state.iloc[:,2:5] - init_state.iloc[:,2:5]\n",
    "# finalize particle movement dataframe\n",
    "\n",
    "part_movement = pd.concat([final_state[\"part_num\"].astype(int), final_state.iloc[:,2:5],\n",
    "                           part_movement], axis=1)\n",
    "part_movement.index.name = \"\"\n",
    "part_movement.columns = ['part_num', 'x', 'y', 'z', 'movement_x', 'movement_y', 'movement_z']\n",
    "\n",
    "# preprocess dataframe\n",
    "# print(part_movement.iloc[:,:7])\n",
    "part_movement = preprocess(part_movement)\n",
    "# part_movement\n"
   ]
  },
  {
   "cell_type": "code",
   "execution_count": 14,
   "metadata": {},
   "outputs": [
    {
     "name": "stdout",
     "output_type": "stream",
     "text": [
      "Counter({0: 3740, 2: 2472, 4: 1633, 1: 1626, 3: 1148})\n"
     ]
    }
   ],
   "source": [
    "# unsuperised kmeans clustering\n",
    "kmeans = cluster.KMeans(n_clusters = 5, n_init = 10, random_state = 0).fit(part_movement.iloc[:,4:7])\n",
    "print(Counter(kmeans.labels_))\n",
    "label = pd.DataFrame({'part_num':part_movement[\"part_num\"],'label':kmeans.labels_})\n",
    "label.to_csv('labels_movement_fs.csv',header=True, index=False)\n"
   ]
  },
  {
   "cell_type": "code",
   "execution_count": 10,
   "metadata": {},
   "outputs": [
    {
     "name": "stdout",
     "output_type": "stream",
     "text": [
      "Terminate program? \n"
     ]
    },
    {
     "ename": "SystemExit",
     "evalue": "",
     "output_type": "error",
     "traceback": [
      "An exception has occurred, use %tb to see the full traceback.\n",
      "\u001b[0;31mSystemExit\u001b[0m\n"
     ]
    },
    {
     "name": "stderr",
     "output_type": "stream",
     "text": [
      "/Users/bin/anaconda3/envs/research/lib/python3.7/site-packages/IPython/core/interactiveshell.py:3304: UserWarning: To exit: use 'exit', 'quit', or Ctrl-D.\n",
      "  warn(\"To exit: use 'exit', 'quit', or Ctrl-D.\", stacklevel=1)\n"
     ]
    }
   ],
   "source": [
    "vs.plot('labels_movement_fs.csv', 'FullSup.v3d','library.vlb')"
   ]
  },
  {
   "cell_type": "markdown",
   "metadata": {},
   "source": [
    "### Lack of Center Support"
   ]
  },
  {
   "cell_type": "code",
   "execution_count": 16,
   "metadata": {},
   "outputs": [],
   "source": [
    "# set folder name and file name\n",
    "folder_init, folder_final = \"locs_d9out\", \"locs_d16out\"\n",
    "step_init, step_final = \"_Step1.csv\", \"_Step303.csv\"\n",
    "\n",
    "# read initial state file and final state file\n",
    "init_state = read_data(folder_init, step_init)\n",
    "final_state = read_data(folder_final, step_final)\n",
    "\n",
    "# remove particles not exist in both files \n",
    "init_state, final_state = match_partnum(init_state, final_state)\n",
    "\n",
    "# print(list(set(init_state[\"part_num\"]) - set(final_state[\"part_num\"])))\n",
    "# calculate particle movement in x, y, z directions\n",
    "part_movement = []\n",
    "part_movement = final_state.iloc[:,2:5] - init_state.iloc[:,2:5]\n",
    "# finalize particle movement dataframe\n",
    "\n",
    "part_movement = pd.concat([final_state[\"part_num\"].astype(int), final_state.iloc[:,2:5],\n",
    "                           part_movement], axis=1)\n",
    "part_movement.index.name = \"\"\n",
    "part_movement.columns = ['part_num', 'x', 'y', 'z', 'movement_x', 'movement_y', 'movement_z']\n",
    "\n",
    "# preprocess dataframe\n",
    "# print(part_movement.iloc[:,:7])\n",
    "part_movement = preprocess(part_movement)\n",
    "# part_movement\n"
   ]
  },
  {
   "cell_type": "code",
   "execution_count": 17,
   "metadata": {},
   "outputs": [
    {
     "name": "stdout",
     "output_type": "stream",
     "text": [
      "Counter({1: 4352, 2: 2094, 0: 1842, 4: 1679, 3: 1438})\n"
     ]
    }
   ],
   "source": [
    "# unsuperised kmeans clustering\n",
    "kmeans = cluster.KMeans(n_clusters = 5, n_init = 10, random_state = 0).fit(part_movement.iloc[:,4:7])\n",
    "print(Counter(kmeans.labels_))\n",
    "label = pd.DataFrame({'part_num':part_movement[\"part_num\"],'label':kmeans.labels_})\n",
    "label.to_csv('labels_movement_locs.csv',header=True, index=False)\n"
   ]
  },
  {
   "cell_type": "code",
   "execution_count": 22,
   "metadata": {},
   "outputs": [
    {
     "name": "stdout",
     "output_type": "stream",
     "text": [
      "Terminate program? \n"
     ]
    },
    {
     "ename": "SystemExit",
     "evalue": "",
     "output_type": "error",
     "traceback": [
      "An exception has occurred, use %tb to see the full traceback.\n",
      "\u001b[0;31mSystemExit\u001b[0m\n"
     ]
    },
    {
     "name": "stderr",
     "output_type": "stream",
     "text": [
      "/Users/bin/anaconda3/envs/research/lib/python3.7/site-packages/IPython/core/interactiveshell.py:3304: UserWarning: To exit: use 'exit', 'quit', or Ctrl-D.\n",
      "  warn(\"To exit: use 'exit', 'quit', or Ctrl-D.\", stacklevel=1)\n"
     ]
    }
   ],
   "source": [
    "vs.plot('labels_movement_locs.csv', 'LackofCenterSup.v3d','library.vlb')"
   ]
  },
  {
   "cell_type": "markdown",
   "metadata": {},
   "source": [
    "### Lack of Rail Seat Support"
   ]
  },
  {
   "cell_type": "code",
   "execution_count": 19,
   "metadata": {},
   "outputs": [],
   "source": [
    "# set folder name and file name\n",
    "folder_init, folder_final = \"lorss_d13out\", \"lorss_d20out\"\n",
    "step_init, step_final = \"_Step1.csv\", \"_Step303.csv\"\n",
    "\n",
    "# read initial state file and final state file\n",
    "init_state = read_data(folder_init, step_init)\n",
    "final_state = read_data(folder_final, step_final)\n",
    "\n",
    "# remove particles not exist in both files \n",
    "init_state, final_state = match_partnum(init_state, final_state)\n",
    "\n",
    "# print(list(set(init_state[\"part_num\"]) - set(final_state[\"part_num\"])))\n",
    "# calculate particle movement in x, y, z directions\n",
    "part_movement = []\n",
    "part_movement = final_state.iloc[:,2:5] - init_state.iloc[:,2:5]\n",
    "# finalize particle movement dataframe\n",
    "\n",
    "part_movement = pd.concat([final_state[\"part_num\"].astype(int), final_state.iloc[:,2:5],\n",
    "                           part_movement], axis=1)\n",
    "part_movement.index.name = \"\"\n",
    "part_movement.columns = ['part_num', 'x', 'y', 'z', 'movement_x', 'movement_y', 'movement_z']\n",
    "\n",
    "# preprocess dataframe\n",
    "# print(part_movement.iloc[:,:7])\n",
    "part_movement = preprocess(part_movement)\n",
    "# part_movement\n"
   ]
  },
  {
   "cell_type": "code",
   "execution_count": 20,
   "metadata": {},
   "outputs": [
    {
     "name": "stdout",
     "output_type": "stream",
     "text": [
      "Counter({4: 3883, 2: 2787, 1: 2191, 0: 1673, 3: 1243})\n"
     ]
    }
   ],
   "source": [
    "# unsuperised kmeans clustering\n",
    "kmeans = cluster.KMeans(n_clusters = 5, n_init = 10, random_state = 0).fit(part_movement.iloc[:,4:7])\n",
    "print(Counter(kmeans.labels_))\n",
    "label = pd.DataFrame({'part_num':part_movement[\"part_num\"],'label':kmeans.labels_})\n",
    "label.to_csv('labels_movement_lorss.csv',header=True, index=False)\n"
   ]
  },
  {
   "cell_type": "code",
   "execution_count": 21,
   "metadata": {},
   "outputs": [
    {
     "name": "stdout",
     "output_type": "stream",
     "text": [
      "Terminate program? \n"
     ]
    },
    {
     "ename": "SystemExit",
     "evalue": "",
     "output_type": "error",
     "traceback": [
      "An exception has occurred, use %tb to see the full traceback.\n",
      "\u001b[0;31mSystemExit\u001b[0m\n"
     ]
    },
    {
     "name": "stderr",
     "output_type": "stream",
     "text": [
      "/Users/bin/anaconda3/envs/research/lib/python3.7/site-packages/IPython/core/interactiveshell.py:3304: UserWarning: To exit: use 'exit', 'quit', or Ctrl-D.\n",
      "  warn(\"To exit: use 'exit', 'quit', or Ctrl-D.\", stacklevel=1)\n"
     ]
    }
   ],
   "source": [
    "vs.plot('labels_movement_fs.csv', 'LackofRailSeatSup.v3d','library.vlb')"
   ]
  },
  {
   "cell_type": "code",
   "execution_count": null,
   "metadata": {},
   "outputs": [],
   "source": []
  }
 ],
 "metadata": {
  "kernelspec": {
   "display_name": "Python [conda env:research] *",
   "language": "python",
   "name": "conda-env-research-py"
  },
  "language_info": {
   "codemirror_mode": {
    "name": "ipython",
    "version": 3
   },
   "file_extension": ".py",
   "mimetype": "text/x-python",
   "name": "python",
   "nbconvert_exporter": "python",
   "pygments_lexer": "ipython3",
   "version": "3.7.3"
  }
 },
 "nbformat": 4,
 "nbformat_minor": 2
}
