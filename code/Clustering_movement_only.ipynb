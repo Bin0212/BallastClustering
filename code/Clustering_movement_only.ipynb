{
 "cells": [
  {
   "cell_type": "markdown",
   "metadata": {},
   "source": [
    "# Import Library"
   ]
  },
  {
   "cell_type": "code",
   "execution_count": 1,
   "metadata": {},
   "outputs": [],
   "source": [
    "import pandas as pd\n",
    "import numpy as np\n",
    "import seaborn as sns\n",
    "# import matplotlib.pyplot as plt\n",
    "\n",
    "from sklearn import cluster\n",
    "from sklearn import mixture\n",
    "from sklearn import preprocessing\n",
    "from collections import Counter\n",
    "# from mpl_toolkits.mplot3d import Axes3D"
   ]
  },
  {
   "cell_type": "markdown",
   "metadata": {},
   "source": [
    "# Data Preprocess\n",
    "### Reading data"
   ]
  },
  {
   "cell_type": "code",
   "execution_count": null,
   "metadata": {},
   "outputs": [],
   "source": [
    "def read_data(folder):\n",
    "    file_path = \"../data/50mph/\" + str(folder) + \"/\" + str(folder) + \"_Step1.csv\"\n",
    "    data = np.abs(pd.read_csv(file_path))\n",
    "    data[\"movement_x\"] = 0\n",
    "    data[\"movement_y\"] = 0\n",
    "    data[\"movement_z\"] = 0\n",
    "\n",
    "    for i in range(1,303):\n",
    "        # create file path\n",
    "        file_path_1 = \"../data/50mph/\" + str(folder) + \"/\" + str(folder) + \"_Step\" + str(i) + \".csv\"\n",
    "        file_path_2 = \"../data/50mph/\" + str(folder) + \"/\" + str(folder) + \"_Step\" + str(i+1) + \".csv\"\n",
    "        print(file_path_1)\n",
    "        # read in file \n",
    "        data_1 = pd.read_csv(file_path_1)\n",
    "        data_2 = pd.read_csv(file_path_2)\n",
    "\n",
    "        # calculate movement in x,y,z directions\n",
    "        data.iloc[:,20:23] = data.iloc[:,20:23] + np.abs(data_2.iloc[:,2:5] - data_1.iloc[:,2:5]).values\n",
    "\n",
    "        # sum values\n",
    "        data.iloc[:,5:20] = data.iloc[:,5:20] + np.abs(data_2.iloc[:,5:20])\n",
    "        \n",
    "        return data\n"
   ]
  }
 ],
 "metadata": {
  "kernelspec": {
   "display_name": "Python [conda env:research] *",
   "language": "python",
   "name": "conda-env-research-py"
  },
  "language_info": {
   "codemirror_mode": {
    "name": "ipython",
    "version": 3
   },
   "file_extension": ".py",
   "mimetype": "text/x-python",
   "name": "python",
   "nbconvert_exporter": "python",
   "pygments_lexer": "ipython3",
   "version": "3.7.3"
  }
 },
 "nbformat": 4,
 "nbformat_minor": 2
}
